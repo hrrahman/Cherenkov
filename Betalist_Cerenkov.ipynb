{
 "cells": [
  {
   "cell_type": "code",
   "execution_count": 1,
   "metadata": {},
   "outputs": [],
   "source": [
    "#Import necesary modules to run the code\n",
    "import numpy as np\n",
    "import matplotlib.pyplot as plt\n",
    "import math\n",
    "import scipy"
   ]
  },
  {
   "cell_type": "markdown",
   "metadata": {},
   "source": [
    "<font size=5>\n",
    "\n",
    "The average energy loss per unit length for proton travelling in LAr can be found from the Bethe-Bloch equation, \n",
    "$$\n",
    "-\\frac{dE}{dx} = K\\frac{\\rho Z}{A} \\frac{z^2}{\\beta^2} [ln \\space (\\frac{2m_{e}c^2\\gamma^2\\beta^2}{I}) - \\beta^2] = \\frac{k_{1}}{\\beta^2} ln(k_{2} \\frac{\\beta^2}{1-\\beta^2}) - k_{1}\n",
    "$$\n",
    "\n",
    "Here,  $ k_{1} =  K\\frac{\\rho Z}{A} z^2$  and  $k_{2} = \\frac{2m_{e}c^2}{I} $\n",
    "\n",
    "where, z is the charge of the travelling proton; $\\rho$ is the density of LAr, Z is its atomic number and A atomic mass. \n",
    "\n",
    "Mean excitation potential, $$ I = (10 \\space eV) . Z  \\space (Bloch's Approximation) \\space   (for Z > 20) $$ \n",
    "\n",
    "\n",
    "\n",
    "For LAr, I = 23.6 eV \n",
    "\n",
    "The constant K is given by, \n",
    "\n",
    "$$ K = \\frac{4\\pi a^2 (\\hbar c)^2 N_{A} (10^3 kg)}{m_{e} c^2} = 30.7 \\space keVm^2/kg = 0.0307 \\space MeVm^2/kg = 0.307 \\space MeVcm^2/g $$ \n",
    "    \n",
    "    \n",
    "Relativistic approach:\n",
    "    \n",
    "We take the full relativistic formula for the kinetic energy (T) thus $\\beta$,  \n",
    "\n",
    "$$ T = \\gamma mc^2 - mc^2 = (\\gamma - 1) mc^2 $$  \n",
    "$$ \\gamma = 1 + \\frac{T}{mc^2} = \\frac{1}{\\sqrt{(1- \\beta^2)}} $$\n",
    "\n",
    "$$\n",
    "\\beta = \\sqrt{1 - \\frac{1}{(1 + \\frac{T}{mc^2})^2}} \n",
    "$$\n"
   ]
  },
  {
   "cell_type": "code",
   "execution_count": 2,
   "metadata": {},
   "outputs": [
    {
     "data": {
      "text/plain": [
       "(0.5117977528089888, 938, 0.19089516371282667, 43372.69091601599)"
      ]
     },
     "execution_count": 2,
     "metadata": {},
     "output_type": "execute_result"
    }
   ],
   "source": [
    "rho = 1.38 #density of LAr in kg/m^3 at 89K temperature  \n",
    "me = 9.11e-31 #Electron's mass in Kg.\n",
    "io = 23.6e-6  #Average Ionization Potential of LAr in MeV\n",
    "k =  0.307  #Constant in MeV.cm^2/g \n",
    "zb = 18  #Atomic No of Ar (absorber)\n",
    "a = 39.948  #Mass no of Ar (absorber)\n",
    "zs = 1 #charge of the particle \n",
    "c = 3e8\n",
    "e = me*c**2/1.602e-13 #m(e)c^2 in MeV (1 MeV = 1.602e-13 J) #Electron's mass in MeV (the hit particle)\n",
    "mp = 938 #Proton's mass in MeV/c^2 \n",
    "k1 = k*rho*zb*zs**2/a\n",
    "k2 = 2*e/io \n",
    "\n",
    "e,mp,k1,k2"
   ]
  },
  {
   "cell_type": "code",
   "execution_count": 3,
   "metadata": {},
   "outputs": [
    {
     "ename": "NameError",
     "evalue": "name 't' is not defined",
     "output_type": "error",
     "traceback": [
      "\u001b[1;31m---------------------------------------------------------------------------\u001b[0m",
      "\u001b[1;31mNameError\u001b[0m                                 Traceback (most recent call last)",
      "\u001b[1;32m<ipython-input-3-492804a552e5>\u001b[0m in \u001b[0;36m<module>\u001b[1;34m\u001b[0m\n\u001b[0;32m     47\u001b[0m \u001b[1;33m\u001b[0m\u001b[0m\n\u001b[0;32m     48\u001b[0m \u001b[1;31m# t = np.array([1,10,20,50,100,200,250,300,400,500,600,700,800,900,1000]) #initial  K.E of the proton in MeV\u001b[0m\u001b[1;33m\u001b[0m\u001b[1;33m\u001b[0m\u001b[1;33m\u001b[0m\u001b[0m\n\u001b[1;32m---> 49\u001b[1;33m \u001b[0mprint\u001b[0m\u001b[1;33m(\u001b[0m\u001b[0mt\u001b[0m\u001b[1;33m,\u001b[0m \u001b[0mrang\u001b[0m\u001b[1;33m,\u001b[0m \u001b[0mbetalist\u001b[0m\u001b[1;33m,\u001b[0m \u001b[0msep\u001b[0m\u001b[1;33m=\u001b[0m\u001b[1;34m'\\n'\u001b[0m\u001b[1;33m)\u001b[0m\u001b[1;33m\u001b[0m\u001b[1;33m\u001b[0m\u001b[0m\n\u001b[0m\u001b[0;32m     50\u001b[0m \u001b[1;31m# make_betalist(500)\u001b[0m\u001b[1;33m\u001b[0m\u001b[1;33m\u001b[0m\u001b[1;33m\u001b[0m\u001b[0m\n",
      "\u001b[1;31mNameError\u001b[0m: name 't' is not defined"
     ]
    }
   ],
   "source": [
    "#Defining a function to calculate the betalist for some given initial K.E of Proton in LAr\n",
    "\n",
    "def make_betalist(t):\n",
    "    ''' t = t_list input from data'''\n",
    "    \n",
    "    \n",
    "    xlist = []\n",
    "    tlist = [] \n",
    "    tslope = []\n",
    "    betalist = []\n",
    "\n",
    "    \n",
    "    x = 0\n",
    "    dx = 0.1 \n",
    "    \n",
    "    \n",
    "\n",
    "    while t>0: \n",
    "        \n",
    "        beta  = np.sqrt(1 - (1/(1 + t/mp)**2)) #Relativistic Approach \n",
    "        t_slope = (((k1*np.log(k2*(beta**2/(1-beta**2))))/beta**2) - k1)\n",
    "        t = t - (t_slope * dx)\n",
    "        tslope.append(t_slope)\n",
    "        tlist.append(t)\n",
    "        betalist.append(beta)\n",
    "\n",
    "        x=x+dx    \n",
    "        xlist.append(x)\n",
    "    \n",
    "         \n",
    "    #Linear Interpolation: \n",
    "\n",
    "    if (len(tlist)>1)  and (len(xlist)>1):\n",
    "    \n",
    "        tnp1 = tlist[-1]\n",
    "        tnp2 = tlist[-2]\n",
    "        xnp1 = xlist[-1]\n",
    "        xnp2 = xlist[-2]\n",
    "        \n",
    "        rang = xnp2 - (tnp2 * ((xnp1-xnp2)/(tnp1 - tnp2))) #Relativistic approach \n",
    "\n",
    "#         print(\"K.E: {} MeV, Range (Rel approach): {:.3f} cm, betalist: {}\".format(tlist,range,betalist, sep='\\n')\n",
    "#         print((tlist1,tslope1) , (tlist2, tslope2))\n",
    "               \n",
    "        return rang, betalist\n",
    "#         return betalist\n",
    "\n",
    "# t = np.array([1,10,20,50,100,200,250,300,400,500,600,700,800,900,1000]) #initial  K.E of the proton in MeV\n",
    "# print(t, rang, betalist, sep='\\n')\n",
    "# make_betalist(500)"
   ]
  },
  {
   "cell_type": "code",
   "execution_count": 4,
   "metadata": {},
   "outputs": [],
   "source": [
    "# print(t, range, betalist, sep='\\n')\n",
    "# make_betalist(500)"
   ]
  },
  {
   "cell_type": "code",
   "execution_count": null,
   "metadata": {},
   "outputs": [],
   "source": []
  }
 ],
 "metadata": {
  "kernelspec": {
   "display_name": "Python 3",
   "language": "python",
   "name": "python3"
  },
  "language_info": {
   "codemirror_mode": {
    "name": "ipython",
    "version": 3
   },
   "file_extension": ".py",
   "mimetype": "text/x-python",
   "name": "python",
   "nbconvert_exporter": "python",
   "pygments_lexer": "ipython3",
   "version": "3.7.3"
  }
 },
 "nbformat": 4,
 "nbformat_minor": 4
}
